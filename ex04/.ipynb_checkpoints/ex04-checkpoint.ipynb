{
 "cells": [
  {
   "cell_type": "markdown",
   "id": "a084cd1f-892b-45be-8867-88f42d3866dc",
   "metadata": {},
   "source": [
    "# PART 4 : Prediction of the amount of electricity produced\n",
    "\n",
    "We would like to predict the amount of electricity produced by a windfarm, as a\n",
    "function of the information gathered in a number of physical sensors (e.g. speed of\n",
    "the wind, temperature, ...)."
   ]
  },
  {
   "cell_type": "code",
   "execution_count": 14,
   "id": "4bfeb3b6-797f-43ea-845d-2ce513bb2614",
   "metadata": {},
   "outputs": [],
   "source": [
    "import numpy as np\n",
    "from sklearn.preprocessing import StandardScaler\n",
    "from sklearn.linear_model import Ridge, Lasso\n",
    "from sklearn.model_selection import GridSearchCV, RandomizedSearchCV\n",
    "from sklearn.metrics import r2_score"
   ]
  },
  {
   "cell_type": "markdown",
   "id": "2fb6f046-f4c4-4a9e-9a5d-c0b9fcbcbd32",
   "metadata": {},
   "source": [
    "Loading data and standardization"
   ]
  },
  {
   "cell_type": "code",
   "execution_count": 15,
   "id": "149a9641-fc37-4a8e-b348-ae326ce9ea34",
   "metadata": {},
   "outputs": [],
   "source": [
    "X_train = np.load('X_train.npy')\n",
    "X_test = np.load('X_test.npy')\n",
    "y_train = np.load('y_train.npy')\n",
    "y_test = np.load('y_test.npy')\n",
    "\n",
    "std = StandardScaler()\n",
    "X_train_std = std.fit_transform(X_train)\n",
    "X_test_std = std.transform(X_test)"
   ]
  },
  {
   "cell_type": "markdown",
   "id": "42ac096e-f296-47b6-8daf-c9fe8a441580",
   "metadata": {},
   "source": [
    "Our 1st model is going to be the ridge linear model.\n",
    "We are going to use the RandomizedSearchCV to find the best hyperparameters for our model"
   ]
  },
  {
   "cell_type": "code",
   "execution_count": 16,
   "id": "ce161b29-8510-4f31-852f-11451e47c976",
   "metadata": {},
   "outputs": [],
   "source": [
    "def ridge_regression(X_train, y_train, X_test, y_test):\n",
    "    random_search = RandomizedSearchCV(Ridge(),\n",
    "                                        {'alpha': np.logspace(-4, 4, 50)},\n",
    "                                        n_iter=50,\n",
    "                                        scoring='r2',\n",
    "                                        random_state=2804)\n",
    "    random_search.fit(X_train, y_train)\n",
    "    best_model = random_search.best_estimator_\n",
    "    y_test_pred = best_model.predict(X_test)\n",
    "\n",
    "    test_r2_score = r2_score(y_test, y_test_pred)\n",
    "    return best_model, test_r2_score"
   ]
  },
  {
   "cell_type": "code",
   "execution_count": null,
   "id": "b54af37a-7907-48be-82b6-e0497e72f036",
   "metadata": {},
   "outputs": [],
   "source": [
    "b_ridge, ridge_r2 = ridge_regression(X_train_std, y_train, X_test_std, y_test)\n",
    "\n",
    "print(f\"Ridge Regression Test R^2 Score: {ridge_r2}\")"
   ]
  },
  {
   "cell_type": "markdown",
   "id": "0feca1dc-2e8d-496a-a0c0-5bdc0ae7168f",
   "metadata": {},
   "source": [
    "### Interpretation of results of Ridge method\n",
    "\n",
    "We obtain a score of 0.59. This is a lot less than what we wanted (0.85)."
   ]
  },
  {
   "cell_type": "code",
   "execution_count": null,
   "id": "4224922b-58a7-4330-85e4-2583a1c5a12c",
   "metadata": {},
   "outputs": [],
   "source": [
    "def lasso_regression(X_train, y_train, X_test, y_test):\n",
    "    grid_search = RandomizedSearchCV(Lasso(max_iter=10000),\n",
    "                                {'alpha': np.logspace(-4, -1, 15)},\n",
    "                                n_iter=15,\n",
    "                                scoring='r2',\n",
    "                                random_state=2804)\n",
    "    grid_search.fit(X_train, y_train)\n",
    "    best_model = grid_search.best_estimator_\n",
    "    y_test_pred = best_model.predict(X_test)\n",
    "    \n",
    "    test_r2_score = r2_score(y_test, y_test_pred)\n",
    "    return best_model, test_r2_score"
   ]
  },
  {
   "cell_type": "code",
   "execution_count": null,
   "id": "6c3c4d67-8883-448d-82ba-ed62c52fad8a",
   "metadata": {},
   "outputs": [],
   "source": [
    "b_lasso, lasso_r2 = lasso_regression(X_train_std, y_train, X_test_std, y_test)\n",
    "\n",
    "print(f\"Lasso Regression Test R^2 Score: {lasso_r2}\")"
   ]
  },
  {
   "cell_type": "markdown",
   "id": "5b132b80-746e-4cc0-887a-d0f2f7b8c43a",
   "metadata": {},
   "source": [
    "### Interpretation of results of Lasso method and comparison\n",
    "\n",
    "We obtain a score of 0.88. This is a lot more than the ridge method.\n",
    "We can explain this difference because the Lasso method select the most relevant features for predicting the target variable.\n",
    "This difference in performance highlights the importance of choosing the appropriate method."
   ]
  }
 ],
 "metadata": {
  "kernelspec": {
   "display_name": "Python 3 (ipykernel)",
   "language": "python",
   "name": "python3"
  },
  "language_info": {
   "codemirror_mode": {
    "name": "ipython",
    "version": 3
   },
   "file_extension": ".py",
   "mimetype": "text/x-python",
   "name": "python",
   "nbconvert_exporter": "python",
   "pygments_lexer": "ipython3",
   "version": "3.11.7"
  }
 },
 "nbformat": 4,
 "nbformat_minor": 5
}
