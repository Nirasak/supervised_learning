{
 "cells": [
  {
   "cell_type": "markdown",
   "id": "0405d685-d870-4e4f-9f7b-a243b255a7e9",
   "metadata": {},
   "source": [
    "# PART 3 : prediction of the winner of a nba game\n",
    "\n",
    "We would like to predict the winner of a Basketball game, as a function of the\n",
    "data gathered at half-time."
   ]
  },
  {
   "cell_type": "code",
   "execution_count": 20,
   "id": "e040023f-6b7d-4b3f-a5b3-d42347002ba5",
   "metadata": {},
   "outputs": [],
   "source": [
    "import numpy as np\n",
    "from sklearn.preprocessing import StandardScaler\n",
    "from sklearn.linear_model import LogisticRegression\n",
    "from sklearn.svm import SVC\n",
    "from sklearn.metrics import accuracy_score\n",
    "from sklearn.model_selection import GridSearchCV"
   ]
  },
  {
   "cell_type": "markdown",
   "id": "975915b2-4ffb-4d1d-9622-67a3804e7fb2",
   "metadata": {},
   "source": [
    "Load data and data standardization"
   ]
  },
  {
   "cell_type": "code",
   "execution_count": 21,
   "id": "0d17c062-302a-4fa8-86be-e147aed04231",
   "metadata": {},
   "outputs": [],
   "source": [
    "X_train = np.load('X_train.npy')\n",
    "X_test = np.load('X_test.npy')\n",
    "y_train = np.load('y_train.npy')\n",
    "y_test = np.load('y_test.npy')\n",
    "\n",
    "std = StandardScaler()\n",
    "X_train_std = std.fit_transform(X_train)\n",
    "X_test_std = std.transform(X_test)"
   ]
  },
  {
   "cell_type": "markdown",
   "id": "641dd822-39f8-45e0-bd9a-3fed5e1c6da6",
   "metadata": {},
   "source": [
    "### Logistic regression"
   ]
  },
  {
   "cell_type": "code",
   "execution_count": 22,
   "id": "a5598fdf-db19-4c6a-9096-77701d956e1e",
   "metadata": {},
   "outputs": [
    {
     "name": "stdout",
     "output_type": "stream",
     "text": [
      "Logistic Regression Accuracy for training set: 0.894\n",
      "Logistic Regression Accuracy for testing set: 0.84\n"
     ]
    }
   ],
   "source": [
    "log_reg = LogisticRegression()\n",
    "log_reg.fit(X_train_std, y_train)\n",
    "\n",
    "predictions = log_reg.predict(X_train_std)\n",
    "accuracy = accuracy_score(y_train, predictions)\n",
    "print(\"Logistic Regression Accuracy for training set:\", accuracy)\n",
    "\n",
    "predictions = log_reg.predict(X_test_std)\n",
    "accuracy = accuracy_score(y_test, predictions)\n",
    "print(\"Logistic Regression Accuracy for testing set:\", accuracy)"
   ]
  },
  {
   "cell_type": "markdown",
   "id": "75bbeaf7-62f0-4002-ba97-223b8151358f",
   "metadata": {},
   "source": [
    "### Results of Logistic regression\n",
    "We obtain a result of 0.84 on the test set which is satisfactory.\n",
    "\n",
    "### SVC"
   ]
  },
  {
   "cell_type": "code",
   "execution_count": 23,
   "id": "c6569551-ea2c-47f3-96a1-b4ca7d158aa1",
   "metadata": {},
   "outputs": [
    {
     "name": "stdout",
     "output_type": "stream",
     "text": [
      "Logistic Regression Accuracy for training set: 0.962\n",
      "Logistic Regression Accuracy for testing set: 0.876\n"
     ]
    }
   ],
   "source": [
    "svc = SVC()\n",
    "svc.fit(X_train_std, y_train)\n",
    "\n",
    "predictions = svc.predict(X_train_std)\n",
    "accuracy = accuracy_score(y_train, predictions)\n",
    "print(\"Logistic Regression Accuracy for training set:\", accuracy)\n",
    "\n",
    "predictions = svc.predict(X_test_std)\n",
    "accuracy = accuracy_score(y_test, predictions)\n",
    "print(\"Logistic Regression Accuracy for testing set:\", accuracy)"
   ]
  },
  {
   "cell_type": "markdown",
   "id": "f784e0be-6fc7-4524-a721-1d2f96711941",
   "metadata": {},
   "source": [
    "### Results of SVC\n",
    "We obtain a result of 0.876 on the test set which is better than the Logistic regression model.\n",
    "we can hypothesize that by changing the hyperparams the SVC model will still be better.\n",
    "\n",
    "### Hyperparams for Logistic regression"
   ]
  },
  {
   "cell_type": "code",
   "execution_count": 24,
   "id": "c3d23b5a-dd36-4163-823d-8af327a47f23",
   "metadata": {},
   "outputs": [
    {
     "name": "stdout",
     "output_type": "stream",
     "text": [
      "Best Hyperparameters: {'C': 10, 'penalty': 'l1', 'solver': 'liblinear'}\n",
      "Logistic Regression Accuracy with Hyperparameters: 0.836\n"
     ]
    }
   ],
   "source": [
    "def hyperparams_logistic_reg(X_train, y_train, X_test, y_test):\n",
    "    param_grid = {\n",
    "        'C': [0.001, 0.01, 0.1, 1, 10, 100],\n",
    "        'penalty': ['l1', 'l2'],\n",
    "        'solver': ['liblinear'],\n",
    "    }\n",
    "\n",
    "    log_reg = LogisticRegression()\n",
    "\n",
    "    grid_search = GridSearchCV(log_reg, param_grid, cv=5, scoring='accuracy')\n",
    "\n",
    "    grid_search.fit(X_train, y_train)\n",
    "\n",
    "    best_params = grid_search.best_params_\n",
    "    print(\"Best Hyperparameters:\", best_params)\n",
    "\n",
    "    best_model = grid_search.best_estimator_\n",
    "    predictions = best_model.predict(X_test)\n",
    "\n",
    "    accuracy = accuracy_score(y_test, predictions)\n",
    "    print(\"Logistic Regression Accuracy with Hyperparameters:\", accuracy)\n",
    "hyperparams_logistic_reg(X_train_std, y_train, X_test_std, y_test)"
   ]
  },
  {
   "cell_type": "code",
   "execution_count": null,
   "id": "adc581a0-4d71-4fee-bafe-7a8167dd31c0",
   "metadata": {},
   "outputs": [],
   "source": [
    "def hyperparams_svc(X_train, y_train, X_test, y_test):\n",
    "\n",
    "    param_grid = {\n",
    "        'C': [0.1, 1, 10, 100],\n",
    "        'gamma': ['scale', 'auto', 0.01, 0.1, 1, 10],\n",
    "        'kernel': ['rbf', 'linear'],\n",
    "    }\n",
    "\n",
    "    svc = SVC()\n",
    "\n",
    "    grid_search = GridSearchCV(svc, param_grid, cv=5, scoring='accuracy')\n",
    "\n",
    "    grid_search.fit(X_train, y_train)\n",
    "\n",
    "    best_params = grid_search.best_params_\n",
    "    print(\"Best Hyperparameters:\", best_params)\n",
    "\n",
    "    best_model = grid_search.best_estimator_\n",
    "    predictions = best_model.predict(X_test)\n",
    "\n",
    "    accuracy = accuracy_score(y_test, predictions)\n",
    "    print(\"SVC Accuracy with Hyperparameters:\", accuracy)\n",
    "hyperparams_svc(X_train_std, y_train, X_test_std, y_test)"
   ]
  },
  {
   "cell_type": "markdown",
   "id": "5cb2f18d-631f-471c-a2a9-c29733d7ac5f",
   "metadata": {},
   "source": [
    "### Explanation of hyperparameters:\n",
    "\n",
    "- C: This parameter represents the regularization strength. Smaller values specify stronger regularization. It's a list of float values indicating the inverse of regularization strength.\n",
    "- penalty: This parameter specifies the norm used in the penalization. It could be 'l1' or 'l2'.\n",
    "- solver: This parameter denotes the algorithm to use in the optimization problem. In this case, 'liblinear' is specified, which is used for linear models.\n",
    "- gamma: This parameter is specific to kernel-based algorithms (like SVM with an RBF kernel). It defines the kernel coefficient for 'rbf' and 'linear' kernels. It can take the values 'scale' and 'auto', which are predefined heuristics based on the training data, or specific float values.\n",
    "- kernel: This parameter specifies the kernel type to be used in the algorithm. It can be 'rbf' for radial basis function kernel or 'linear' for a linear kernel.\n",
    "\n",
    "### Results and conclusion\n",
    "\n",
    "The results provide insights into the performance of logistic regression and Support Vector Classifier (SVC) after tuning their hyperparameters using grid search with cross-validation.\n",
    "\n",
    "For logistic regression:\n",
    "\n",
    "The best hyperparameters found are C=10, penalty='l1', and solver='liblinear'.\n",
    "The model achieves an accuracy of 83.6% on the test set.\n",
    "For SVC:\n",
    "\n",
    "The best hyperparameters found are C=10, gamma=0.01, and kernel='rbf'.\n",
    "The model achieves an accuracy of 85.6% on the test set.\n",
    "\n",
    "Here are some observations:\n",
    "\n",
    "Both models achieve reasonably good accuracies, indicating that they are able to capture patterns in the data.\n",
    "SVC slightly outperforms logistic regression, achieving a higher accuracy as we expected earlier.\n",
    "The choice of hyperparameters can significantly impact the performance of the models. In this case, the grid search helped identify hyperparameters that improved model accuracy.\n",
    "It's essential to validate the performance of the models on a separate test set to ensure generalization to unseen data.\n",
    "Overall, these results provide valuable information for selecting the appropriate algorithm and hyperparameters for classification tasks."
   ]
  }
 ],
 "metadata": {
  "kernelspec": {
   "display_name": "Python 3 (ipykernel)",
   "language": "python",
   "name": "python3"
  },
  "language_info": {
   "codemirror_mode": {
    "name": "ipython",
    "version": 3
   },
   "file_extension": ".py",
   "mimetype": "text/x-python",
   "name": "python",
   "nbconvert_exporter": "python",
   "pygments_lexer": "ipython3",
   "version": "3.11.7"
  }
 },
 "nbformat": 4,
 "nbformat_minor": 5
}
