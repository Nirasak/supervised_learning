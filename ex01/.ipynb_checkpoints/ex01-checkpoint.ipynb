{
 "cells": [
  {
   "cell_type": "markdown",
   "id": "c8270fec-d88d-4499-8510-3ebbd893d5ab",
   "metadata": {},
   "source": [
    "# PART 1 : Artificial dataset generation\n",
    "\n",
    "The goal of this exercise is to work with statistical notions such as mean, standard\n",
    "deviation, and correlation.\n",
    "Write a file or a notebook that generates a numerical dataset with 300 datapoints (i.e. lines) and at least 6 columns and saves it to a csv file named artificial_dataset.csv.\n",
    "\n",
    "The columns must satisfy the following requirements :\n",
    "- They must all have a different mean\n",
    "- They must all have a different standard deviation (English for \"écart type\")\n",
    "- At least one column should contain integers.\n",
    "- At least one column should contain floats.\n",
    "- One column must have a mean close to 2.5.\n",
    "- Some columns must be positively correlated.\n",
    "- Some columns must be negatively correlated.\n",
    "- Some columns must have a correlation close to 0."
   ]
  },
  {
   "cell_type": "code",
   "execution_count": 1,
   "id": "c60596c4-d717-41f9-a87b-dda6b979ef9b",
   "metadata": {},
   "outputs": [],
   "source": [
    "import numpy as np\n",
    "import pandas as pd\n",
    "\n",
    "np.random.seed(2804)\n",
    "\n",
    "def create_dataframe(nb_rows=300, nb_cols=6):\n",
    "    df = pd.DataFrame()\n",
    "\n",
    "    int_cols = 0\n",
    "    for x in range(nb_cols):\n",
    "        # Create a different mean and standard deviation for each col\n",
    "        mean = np.random.uniform(low=0, high=10)\n",
    "        std_dev = np.random.uniform(low=0.5, high=5)\n",
    "\n",
    "        # Making sure there is at least 1 int col and 1 float col\n",
    "        t = np.random.choice(['int', 'float'])\n",
    "        if int_cols == 0 and x == nb_cols - 1:\n",
    "            t = 'int'\n",
    "        if int_cols == nb_cols - 1:\n",
    "            t = 'float'\n",
    "        int_cols += (t == 'int')\n",
    "\n",
    "        # Generate int and float cols and applying standard deviation and mean to the col\n",
    "        if t == 'int':\n",
    "            data = np.random.randint(0, 100, size=nb_rows)\n",
    "            df[f'Col_{x+1}'] = (data * std_dev + mean).astype(int)\n",
    "        else:\n",
    "            data = np.random.uniform(0, 100, size=nb_rows)\n",
    "            df[f'Col_{x+1}'] = data * std_dev + mean\n",
    "    # Col with mean close to 2.5\n",
    "    df[f'Col_{nb_cols+1}'] = np.random.normal(2.5, 0.1, size=nb_rows)\n",
    "    # Col positively correlated\n",
    "    df[f'Col_{nb_cols+2}'] = df['Col_1'] + np.random.normal(0, 2, size=nb_rows)\n",
    "    # Col negatively correlated\n",
    "    df[f'Col_{nb_cols+3}'] = -df['Col_1'] + np.random.normal(0, 2, size=nb_rows)\n",
    "    # Col with corelation close to 0\n",
    "    df[f'Col_{nb_cols+4}'] = np.random.normal(0, 1, size=nb_rows)\n",
    "\n",
    "    df.to_csv('positively_correlated_dataset.csv', index=False)\n",
    "\n",
    "create_dataframe()"
   ]
  },
  {
   "cell_type": "code",
   "execution_count": null,
   "id": "a7fe47d2-868d-4b10-9990-a5ed08a660a0",
   "metadata": {},
   "outputs": [],
   "source": []
  }
 ],
 "metadata": {
  "kernelspec": {
   "display_name": "Python 3 (ipykernel)",
   "language": "python",
   "name": "python3"
  },
  "language_info": {
   "codemirror_mode": {
    "name": "ipython",
    "version": 3
   },
   "file_extension": ".py",
   "mimetype": "text/x-python",
   "name": "python",
   "nbconvert_exporter": "python",
   "pygments_lexer": "ipython3",
   "version": "3.11.7"
  }
 },
 "nbformat": 4,
 "nbformat_minor": 5
}
